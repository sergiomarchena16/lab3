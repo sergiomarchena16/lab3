{
 "cells": [
  {
   "cell_type": "markdown",
   "id": "cb940e4e",
   "metadata": {},
   "source": [
    "# Lab 3 - Security Data Science"
   ]
  },
  {
   "cell_type": "code",
   "execution_count": 1,
   "id": "af7847d7",
   "metadata": {},
   "outputs": [],
   "source": [
    "import pefile\n",
    "import os\n",
    "import pandas as pd"
   ]
  },
  {
   "cell_type": "markdown",
   "id": "35757dd5",
   "metadata": {},
   "source": [
    "## Parte 1. Creacion del Dataset"
   ]
  },
  {
   "cell_type": "code",
   "execution_count": 7,
   "id": "0e871af8",
   "metadata": {},
   "outputs": [],
   "source": [
    "file_name=['1F2EB7B090018D975E6D9B40868C94CA','B07322743778B5868475DBE66EEDAC4F','GBV66_8F259BB36E00D124963CFA9B86F502E','POL55_A4F1ECC4D25B33395196B5D51A06790','33DE5067A433A6EC5C328067DC18EC37','B98hX8E8622C393D7E832D39E620EAD5D3B49','GFT4_7DDD3D72EAD03C7518F5D47650C8572',   'QW2_4C6BDDCCA2695D6202DF38708E14FC7E','65018CD542145A3792BA09985734C12A','BVJ2D9FBF759F527AF373E34673DC3ACA462','HJGQDD892986B2249B5214639ECC8AC0223',  'RTC_7F85D7F628CE62D1D8F7B39D8940472','650A6FCA433EE243391E4B4C11F09438','DS22_A670D13D4D014169C4080328B8FEB86','JH78C0A33A1B472A8C16123FD696A5CE5EBB','SAM_B659D71AE168E774FAAF38DB30F4A84','6FAA4740F99408D4D2DDDD0B09BBDEFD','EEE99EC8AA67B05407C01094184C33D2B5A44','JKK8CA6FE7A1315AF5AFEAC2961460A80569','785003A405BC7A4EBCBB21DDB757BF3F','F6655E39465C2FF5B016980D918EA028','K99_C3A9A7B026BFE0E55FF219FD6AA7D94',    'TG78Z__727A6800991EEAD454E53E8AF164A99C','8442AE37B91F279A9F06DE4C60B286A3','F8437E44748D2C3FCF84019766F4E6DC','KLp90_6D5C8FC4B14559F73B6136D85B94198','VBMM9_149B7BD7218AAB4E257D28469FDDB0D','99A39866A657A10949FCB6D634BB30D5','FGJKJJ1_2BA0D0083976A5C1E3315413CDCFFCD2','L11_1415EB8519D13328091CC5C76A624E3D','VC990_468FF2C12CFFC7E5B2FE0EE6BB3B239E','A316D5AECA269CA865077E7FFF356E7D','FGTR43_EF8E0FB20E7228C7492CCDC59D87C690','NBV_8B75BCBFF174C25A0161F30758509A44','AAAz2E1B6940985A23E5639450F8391820655','FHHH6576C196385407B0F7F4B1B537D88983','NV99_C9C9DBF388A8D81D8CFB4D3FC05F8E4','AL65_DB05DF0498B59B42A8E493CF3C10C578','FTTR9EA3C16194CE354C244C1B74C46CD92E','PL98_BD8B082B7711BC980252F988BB0CA936']\n",
    "\n",
    "malware = []"
   ]
  },
  {
   "cell_type": "code",
   "execution_count": 12,
   "id": "8d7d8ea0",
   "metadata": {},
   "outputs": [],
   "source": [
    "for file in file_name:\n",
    "    file_dictionary = {}\n",
    "    path = os.path.dirname(file)\n",
    "    path = path + 'MALWR/'\n",
    "    pe = pefile.PE(path + file)\n",
    "\n",
    "    for section in pe.sections:\n",
    "        section_split = str(section.Name).split(\"'\")\n",
    "        x = \"\\\\\"\n",
    "        section_name = section_split[1].split(x)\n",
    "        key = section_name[0]\n",
    "        file_dictionary[key] = 1\n",
    "        file_dictionary[key + '_virtual_address'] = section.VirtualAddress\n",
    "        file_dictionary[key + '_virtual_size'] = section.Misc_VirtualSize\n",
    "        file_dictionary[key + '_size_raw_data'] = section.SizeOfRawData\n",
    "        \n",
    "    for entry in pe.DIRECTORY_ENTRY_IMPORT:\n",
    "        file_dictionary[entry.dll] = 1\n",
    "        for function in entry.imports:  \n",
    "            file_dictionary[function.name] = 1\n",
    "    \n",
    "    malware.append(file_dictionary)\n",
    "\n",
    "df = pd.DataFrame(malware)\n",
    "\n",
    "df.to_csv('New_Dataset.csv', index=False)"
   ]
  },
  {
   "cell_type": "markdown",
   "id": "8a97c7ab",
   "metadata": {},
   "source": [
    "## Parte 2. Implementación del modelo"
   ]
  },
  {
   "cell_type": "code",
   "execution_count": null,
   "id": "72290b79",
   "metadata": {},
   "outputs": [],
   "source": []
  }
 ],
 "metadata": {
  "kernelspec": {
   "display_name": "Python 3 (ipykernel)",
   "language": "python",
   "name": "python3"
  },
  "language_info": {
   "codemirror_mode": {
    "name": "ipython",
    "version": 3
   },
   "file_extension": ".py",
   "mimetype": "text/x-python",
   "name": "python",
   "nbconvert_exporter": "python",
   "pygments_lexer": "ipython3",
   "version": "3.10.2"
  }
 },
 "nbformat": 4,
 "nbformat_minor": 5
}
