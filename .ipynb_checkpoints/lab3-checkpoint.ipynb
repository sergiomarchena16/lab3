{
 "cells": [
  {
   "cell_type": "markdown",
   "id": "cb940e4e",
   "metadata": {},
   "source": [
    "# Lab 3 - Security Data Science"
   ]
  },
  {
   "cell_type": "code",
   "execution_count": 1,
   "id": "af7847d7",
   "metadata": {},
   "outputs": [],
   "source": [
    "import pefile\n",
    "import os\n",
    "import pandas as pd"
   ]
  },
  {
   "cell_type": "markdown",
   "id": "eb7c96b4",
   "metadata": {},
   "source": [
    "## Parte 1. Creacion del Dataset"
   ]
  },
  {
   "cell_type": "code",
   "execution_count": 18,
   "id": "a1d61f2c",
   "metadata": {},
   "outputs": [],
   "source": [
    "file_name=['1F2EB7B090018D975E6D9B40868C94CA','B07322743778B5868475DBE66EEDAC4F','GBV66_8F259BB36E00D124963CFA9B86F502E','POL55_A4F1ECC4D25B33395196B5D51A06790','33DE5067A433A6EC5C328067DC18EC37','B98hX8E8622C393D7E832D39E620EAD5D3B49','GFT4_7DDD3D72EAD03C7518F5D47650C8572',   'QW2_4C6BDDCCA2695D6202DF38708E14FC7E','65018CD542145A3792BA09985734C12A','BVJ2D9FBF759F527AF373E34673DC3ACA462','HJGQDD892986B2249B5214639ECC8AC0223',  'RTC_7F85D7F628CE62D1D8F7B39D8940472','650A6FCA433EE243391E4B4C11F09438','DS22_A670D13D4D014169C4080328B8FEB86','JH78C0A33A1B472A8C16123FD696A5CE5EBB','SAM_B659D71AE168E774FAAF38DB30F4A84','6FAA4740F99408D4D2DDDD0B09BBDEFD','EEE99EC8AA67B05407C01094184C33D2B5A44','JKK8CA6FE7A1315AF5AFEAC2961460A80569','785003A405BC7A4EBCBB21DDB757BF3F','F6655E39465C2FF5B016980D918EA028','K99_C3A9A7B026BFE0E55FF219FD6AA7D94',    'TG78Z__727A6800991EEAD454E53E8AF164A99C','8442AE37B91F279A9F06DE4C60B286A3','F8437E44748D2C3FCF84019766F4E6DC','KLp90_6D5C8FC4B14559F73B6136D85B94198','VBMM9_149B7BD7218AAB4E257D28469FDDB0D','99A39866A657A10949FCB6D634BB30D5','FGJKJJ1_2BA0D0083976A5C1E3315413CDCFFCD2','L11_1415EB8519D13328091CC5C76A624E3D','VC990_468FF2C12CFFC7E5B2FE0EE6BB3B239E','A316D5AECA269CA865077E7FFF356E7D','FGTR43_EF8E0FB20E7228C7492CCDC59D87C690','NBV_8B75BCBFF174C25A0161F30758509A44','AAAz2E1B6940985A23E5639450F8391820655','FHHH6576C196385407B0F7F4B1B537D88983','NV99_C9C9DBF388A8D81D8CFB4D3FC05F8E4','AL65_DB05DF0498B59B42A8E493CF3C10C578','FTTR9EA3C16194CE354C244C1B74C46CD92E','PL98_BD8B082B7711BC980252F988BB0CA936']\n",
    "\n",
    "malware = []"
   ]
  },
  {
   "cell_type": "code",
   "execution_count": 20,
   "id": "8d7d8ea0",
   "metadata": {},
   "outputs": [],
   "source": [
    "for file in file_name:\n",
    "    file_dictionary = {}\n",
    "    path = os.path.dirname(file)\n",
    "    path = path + 'MALWR/'\n",
    "    pe = pefile.PE(path + file)\n",
    "\n",
    "    for section in pe.sections:\n",
    "        section_split = str(section.Name).split(\"'\")\n",
    "        x = \"\\\\\"\n",
    "        section_name = section_split[1].split(x)\n",
    "        key = section_name[0]\n",
    "        file_dictionary[key] = 1\n",
    "        file_dictionary[key + '_virtual_address'] = section.VirtualAddress\n",
    "        file_dictionary[key + '_virtual_size'] = section.Misc_VirtualSize\n",
    "        file_dictionary[key + '_size_raw_data'] = section.SizeOfRawData\n",
    "        \n",
    "    for entry in pe.DIRECTORY_ENTRY_IMPORT:\n",
    "        file_dictionary[entry.dll] = 1\n",
    "        for function in entry.imports:  \n",
    "            file_dictionary[function.name] = 1\n",
    "    \n",
    "    malware.append(file_dictionary)\n",
    "\n",
    "df = pd.DataFrame(malware)\n",
    "\n",
    "df.to_csv('New_Dataset.csv', index=False)"
   ]
  },
  {
   "cell_type": "markdown",
   "id": "d412465c",
   "metadata": {},
   "source": [
    "## Parte 2. Implementación del modelo"
   ]
  },
  {
   "cell_type": "code",
   "execution_count": 23,
   "id": "553d4c3f",
   "metadata": {},
   "outputs": [
    {
     "data": {
      "text/html": [
       "<div>\n",
       "<style scoped>\n",
       "    .dataframe tbody tr th:only-of-type {\n",
       "        vertical-align: middle;\n",
       "    }\n",
       "\n",
       "    .dataframe tbody tr th {\n",
       "        vertical-align: top;\n",
       "    }\n",
       "\n",
       "    .dataframe thead th {\n",
       "        text-align: right;\n",
       "    }\n",
       "</style>\n",
       "<table border=\"1\" class=\"dataframe\">\n",
       "  <thead>\n",
       "    <tr style=\"text-align: right;\">\n",
       "      <th></th>\n",
       "      <th>UPX0</th>\n",
       "      <th>UPX0_virtual_address</th>\n",
       "      <th>UPX0_virtual_size</th>\n",
       "      <th>UPX0_size_raw_data</th>\n",
       "      <th>UPX1</th>\n",
       "      <th>UPX1_virtual_address</th>\n",
       "      <th>UPX1_virtual_size</th>\n",
       "      <th>UPX1_size_raw_data</th>\n",
       "      <th>.rsrc</th>\n",
       "      <th>.rsrc_virtual_address</th>\n",
       "      <th>...</th>\n",
       "      <th>b'StartServiceA'</th>\n",
       "      <th>b'QueryServiceStatus'</th>\n",
       "      <th>b'RegisterServiceCtrlHandlerA'</th>\n",
       "      <th>b'SetServiceStatus'</th>\n",
       "      <th>b'StartServiceCtrlDispatcherA'</th>\n",
       "      <th>b'printf'</th>\n",
       "      <th>b'WSASetLastError'</th>\n",
       "      <th>b'ShellExecuteA'</th>\n",
       "      <th>b'ntdll.dll'</th>\n",
       "      <th>b'WSAGetLastError'</th>\n",
       "    </tr>\n",
       "  </thead>\n",
       "  <tbody>\n",
       "    <tr>\n",
       "      <th>0</th>\n",
       "      <td>1.0</td>\n",
       "      <td>4096.0</td>\n",
       "      <td>20480.0</td>\n",
       "      <td>0.0</td>\n",
       "      <td>1.0</td>\n",
       "      <td>24576.0</td>\n",
       "      <td>4096.0</td>\n",
       "      <td>3584.0</td>\n",
       "      <td>1.0</td>\n",
       "      <td>28672.0</td>\n",
       "      <td>...</td>\n",
       "      <td>NaN</td>\n",
       "      <td>NaN</td>\n",
       "      <td>NaN</td>\n",
       "      <td>NaN</td>\n",
       "      <td>NaN</td>\n",
       "      <td>NaN</td>\n",
       "      <td>NaN</td>\n",
       "      <td>NaN</td>\n",
       "      <td>NaN</td>\n",
       "      <td>NaN</td>\n",
       "    </tr>\n",
       "    <tr>\n",
       "      <th>1</th>\n",
       "      <td>1.0</td>\n",
       "      <td>4096.0</td>\n",
       "      <td>20480.0</td>\n",
       "      <td>0.0</td>\n",
       "      <td>1.0</td>\n",
       "      <td>24576.0</td>\n",
       "      <td>4096.0</td>\n",
       "      <td>3584.0</td>\n",
       "      <td>1.0</td>\n",
       "      <td>28672.0</td>\n",
       "      <td>...</td>\n",
       "      <td>NaN</td>\n",
       "      <td>NaN</td>\n",
       "      <td>NaN</td>\n",
       "      <td>NaN</td>\n",
       "      <td>NaN</td>\n",
       "      <td>NaN</td>\n",
       "      <td>NaN</td>\n",
       "      <td>NaN</td>\n",
       "      <td>NaN</td>\n",
       "      <td>NaN</td>\n",
       "    </tr>\n",
       "    <tr>\n",
       "      <th>2</th>\n",
       "      <td>NaN</td>\n",
       "      <td>NaN</td>\n",
       "      <td>NaN</td>\n",
       "      <td>NaN</td>\n",
       "      <td>NaN</td>\n",
       "      <td>NaN</td>\n",
       "      <td>NaN</td>\n",
       "      <td>NaN</td>\n",
       "      <td>NaN</td>\n",
       "      <td>NaN</td>\n",
       "      <td>...</td>\n",
       "      <td>NaN</td>\n",
       "      <td>NaN</td>\n",
       "      <td>NaN</td>\n",
       "      <td>NaN</td>\n",
       "      <td>NaN</td>\n",
       "      <td>NaN</td>\n",
       "      <td>NaN</td>\n",
       "      <td>NaN</td>\n",
       "      <td>NaN</td>\n",
       "      <td>NaN</td>\n",
       "    </tr>\n",
       "    <tr>\n",
       "      <th>3</th>\n",
       "      <td>NaN</td>\n",
       "      <td>NaN</td>\n",
       "      <td>NaN</td>\n",
       "      <td>NaN</td>\n",
       "      <td>NaN</td>\n",
       "      <td>NaN</td>\n",
       "      <td>NaN</td>\n",
       "      <td>NaN</td>\n",
       "      <td>NaN</td>\n",
       "      <td>NaN</td>\n",
       "      <td>...</td>\n",
       "      <td>NaN</td>\n",
       "      <td>NaN</td>\n",
       "      <td>NaN</td>\n",
       "      <td>NaN</td>\n",
       "      <td>NaN</td>\n",
       "      <td>NaN</td>\n",
       "      <td>NaN</td>\n",
       "      <td>NaN</td>\n",
       "      <td>NaN</td>\n",
       "      <td>NaN</td>\n",
       "    </tr>\n",
       "    <tr>\n",
       "      <th>4</th>\n",
       "      <td>1.0</td>\n",
       "      <td>4096.0</td>\n",
       "      <td>20480.0</td>\n",
       "      <td>0.0</td>\n",
       "      <td>1.0</td>\n",
       "      <td>24576.0</td>\n",
       "      <td>4096.0</td>\n",
       "      <td>4096.0</td>\n",
       "      <td>1.0</td>\n",
       "      <td>28672.0</td>\n",
       "      <td>...</td>\n",
       "      <td>NaN</td>\n",
       "      <td>NaN</td>\n",
       "      <td>NaN</td>\n",
       "      <td>NaN</td>\n",
       "      <td>NaN</td>\n",
       "      <td>NaN</td>\n",
       "      <td>NaN</td>\n",
       "      <td>NaN</td>\n",
       "      <td>NaN</td>\n",
       "      <td>NaN</td>\n",
       "    </tr>\n",
       "  </tbody>\n",
       "</table>\n",
       "<p>5 rows × 157 columns</p>\n",
       "</div>"
      ],
      "text/plain": [
       "   UPX0  UPX0_virtual_address  UPX0_virtual_size  UPX0_size_raw_data  UPX1  \\\n",
       "0   1.0                4096.0            20480.0                 0.0   1.0   \n",
       "1   1.0                4096.0            20480.0                 0.0   1.0   \n",
       "2   NaN                   NaN                NaN                 NaN   NaN   \n",
       "3   NaN                   NaN                NaN                 NaN   NaN   \n",
       "4   1.0                4096.0            20480.0                 0.0   1.0   \n",
       "\n",
       "   UPX1_virtual_address  UPX1_virtual_size  UPX1_size_raw_data  .rsrc  \\\n",
       "0               24576.0             4096.0              3584.0    1.0   \n",
       "1               24576.0             4096.0              3584.0    1.0   \n",
       "2                   NaN                NaN                 NaN    NaN   \n",
       "3                   NaN                NaN                 NaN    NaN   \n",
       "4               24576.0             4096.0              4096.0    1.0   \n",
       "\n",
       "   .rsrc_virtual_address  ...  b'StartServiceA'  b'QueryServiceStatus'  \\\n",
       "0                28672.0  ...               NaN                    NaN   \n",
       "1                28672.0  ...               NaN                    NaN   \n",
       "2                    NaN  ...               NaN                    NaN   \n",
       "3                    NaN  ...               NaN                    NaN   \n",
       "4                28672.0  ...               NaN                    NaN   \n",
       "\n",
       "   b'RegisterServiceCtrlHandlerA'  b'SetServiceStatus'  \\\n",
       "0                             NaN                  NaN   \n",
       "1                             NaN                  NaN   \n",
       "2                             NaN                  NaN   \n",
       "3                             NaN                  NaN   \n",
       "4                             NaN                  NaN   \n",
       "\n",
       "   b'StartServiceCtrlDispatcherA'  b'printf'  b'WSASetLastError'  \\\n",
       "0                             NaN        NaN                 NaN   \n",
       "1                             NaN        NaN                 NaN   \n",
       "2                             NaN        NaN                 NaN   \n",
       "3                             NaN        NaN                 NaN   \n",
       "4                             NaN        NaN                 NaN   \n",
       "\n",
       "   b'ShellExecuteA'  b'ntdll.dll'  b'WSAGetLastError'  \n",
       "0               NaN           NaN                 NaN  \n",
       "1               NaN           NaN                 NaN  \n",
       "2               NaN           NaN                 NaN  \n",
       "3               NaN           NaN                 NaN  \n",
       "4               NaN           NaN                 NaN  \n",
       "\n",
       "[5 rows x 157 columns]"
      ]
     },
     "execution_count": 23,
     "metadata": {},
     "output_type": "execute_result"
    }
   ],
   "source": [
    "df.head(5)"
   ]
  },
  {
   "cell_type": "code",
   "execution_count": 33,
   "id": "1a4da264",
   "metadata": {},
   "outputs": [
    {
     "name": "stdout",
     "output_type": "stream",
     "text": [
      "<class 'pandas.core.frame.DataFrame'>\n",
      "RangeIndex: 40 entries, 0 to 39\n",
      "Columns: 157 entries, UPX0 to b'WSAGetLastError'\n",
      "dtypes: float64(155), int64(2)\n",
      "memory usage: 49.2 KB\n"
     ]
    }
   ],
   "source": [
    "df.info()"
   ]
  },
  {
   "cell_type": "code",
   "execution_count": 34,
   "id": "bfbd1b16",
   "metadata": {},
   "outputs": [],
   "source": [
    "df.fillna(value = 0, inplace = True)"
   ]
  },
  {
   "cell_type": "code",
   "execution_count": 35,
   "id": "1cc856ec",
   "metadata": {},
   "outputs": [
    {
     "data": {
      "text/html": [
       "<div>\n",
       "<style scoped>\n",
       "    .dataframe tbody tr th:only-of-type {\n",
       "        vertical-align: middle;\n",
       "    }\n",
       "\n",
       "    .dataframe tbody tr th {\n",
       "        vertical-align: top;\n",
       "    }\n",
       "\n",
       "    .dataframe thead th {\n",
       "        text-align: right;\n",
       "    }\n",
       "</style>\n",
       "<table border=\"1\" class=\"dataframe\">\n",
       "  <thead>\n",
       "    <tr style=\"text-align: right;\">\n",
       "      <th></th>\n",
       "      <th>UPX0</th>\n",
       "      <th>UPX0_virtual_address</th>\n",
       "      <th>UPX0_virtual_size</th>\n",
       "      <th>UPX0_size_raw_data</th>\n",
       "      <th>UPX1</th>\n",
       "      <th>UPX1_virtual_address</th>\n",
       "      <th>UPX1_virtual_size</th>\n",
       "      <th>UPX1_size_raw_data</th>\n",
       "      <th>.rsrc</th>\n",
       "      <th>.rsrc_virtual_address</th>\n",
       "      <th>...</th>\n",
       "      <th>b'StartServiceA'</th>\n",
       "      <th>b'QueryServiceStatus'</th>\n",
       "      <th>b'RegisterServiceCtrlHandlerA'</th>\n",
       "      <th>b'SetServiceStatus'</th>\n",
       "      <th>b'StartServiceCtrlDispatcherA'</th>\n",
       "      <th>b'printf'</th>\n",
       "      <th>b'WSASetLastError'</th>\n",
       "      <th>b'ShellExecuteA'</th>\n",
       "      <th>b'ntdll.dll'</th>\n",
       "      <th>b'WSAGetLastError'</th>\n",
       "    </tr>\n",
       "  </thead>\n",
       "  <tbody>\n",
       "    <tr>\n",
       "      <th>0</th>\n",
       "      <td>1.0</td>\n",
       "      <td>4096.0</td>\n",
       "      <td>20480.0</td>\n",
       "      <td>0.0</td>\n",
       "      <td>1.0</td>\n",
       "      <td>24576.0</td>\n",
       "      <td>4096.0</td>\n",
       "      <td>3584.0</td>\n",
       "      <td>1.0</td>\n",
       "      <td>28672.0</td>\n",
       "      <td>...</td>\n",
       "      <td>0.0</td>\n",
       "      <td>0.0</td>\n",
       "      <td>0.0</td>\n",
       "      <td>0.0</td>\n",
       "      <td>0.0</td>\n",
       "      <td>0.0</td>\n",
       "      <td>0.0</td>\n",
       "      <td>0.0</td>\n",
       "      <td>0.0</td>\n",
       "      <td>0.0</td>\n",
       "    </tr>\n",
       "    <tr>\n",
       "      <th>1</th>\n",
       "      <td>1.0</td>\n",
       "      <td>4096.0</td>\n",
       "      <td>20480.0</td>\n",
       "      <td>0.0</td>\n",
       "      <td>1.0</td>\n",
       "      <td>24576.0</td>\n",
       "      <td>4096.0</td>\n",
       "      <td>3584.0</td>\n",
       "      <td>1.0</td>\n",
       "      <td>28672.0</td>\n",
       "      <td>...</td>\n",
       "      <td>0.0</td>\n",
       "      <td>0.0</td>\n",
       "      <td>0.0</td>\n",
       "      <td>0.0</td>\n",
       "      <td>0.0</td>\n",
       "      <td>0.0</td>\n",
       "      <td>0.0</td>\n",
       "      <td>0.0</td>\n",
       "      <td>0.0</td>\n",
       "      <td>0.0</td>\n",
       "    </tr>\n",
       "    <tr>\n",
       "      <th>2</th>\n",
       "      <td>0.0</td>\n",
       "      <td>0.0</td>\n",
       "      <td>0.0</td>\n",
       "      <td>0.0</td>\n",
       "      <td>0.0</td>\n",
       "      <td>0.0</td>\n",
       "      <td>0.0</td>\n",
       "      <td>0.0</td>\n",
       "      <td>0.0</td>\n",
       "      <td>0.0</td>\n",
       "      <td>...</td>\n",
       "      <td>0.0</td>\n",
       "      <td>0.0</td>\n",
       "      <td>0.0</td>\n",
       "      <td>0.0</td>\n",
       "      <td>0.0</td>\n",
       "      <td>0.0</td>\n",
       "      <td>0.0</td>\n",
       "      <td>0.0</td>\n",
       "      <td>0.0</td>\n",
       "      <td>0.0</td>\n",
       "    </tr>\n",
       "    <tr>\n",
       "      <th>3</th>\n",
       "      <td>0.0</td>\n",
       "      <td>0.0</td>\n",
       "      <td>0.0</td>\n",
       "      <td>0.0</td>\n",
       "      <td>0.0</td>\n",
       "      <td>0.0</td>\n",
       "      <td>0.0</td>\n",
       "      <td>0.0</td>\n",
       "      <td>0.0</td>\n",
       "      <td>0.0</td>\n",
       "      <td>...</td>\n",
       "      <td>0.0</td>\n",
       "      <td>0.0</td>\n",
       "      <td>0.0</td>\n",
       "      <td>0.0</td>\n",
       "      <td>0.0</td>\n",
       "      <td>0.0</td>\n",
       "      <td>0.0</td>\n",
       "      <td>0.0</td>\n",
       "      <td>0.0</td>\n",
       "      <td>0.0</td>\n",
       "    </tr>\n",
       "    <tr>\n",
       "      <th>4</th>\n",
       "      <td>1.0</td>\n",
       "      <td>4096.0</td>\n",
       "      <td>20480.0</td>\n",
       "      <td>0.0</td>\n",
       "      <td>1.0</td>\n",
       "      <td>24576.0</td>\n",
       "      <td>4096.0</td>\n",
       "      <td>4096.0</td>\n",
       "      <td>1.0</td>\n",
       "      <td>28672.0</td>\n",
       "      <td>...</td>\n",
       "      <td>0.0</td>\n",
       "      <td>0.0</td>\n",
       "      <td>0.0</td>\n",
       "      <td>0.0</td>\n",
       "      <td>0.0</td>\n",
       "      <td>0.0</td>\n",
       "      <td>0.0</td>\n",
       "      <td>0.0</td>\n",
       "      <td>0.0</td>\n",
       "      <td>0.0</td>\n",
       "    </tr>\n",
       "  </tbody>\n",
       "</table>\n",
       "<p>5 rows × 157 columns</p>\n",
       "</div>"
      ],
      "text/plain": [
       "   UPX0  UPX0_virtual_address  UPX0_virtual_size  UPX0_size_raw_data  UPX1  \\\n",
       "0   1.0                4096.0            20480.0                 0.0   1.0   \n",
       "1   1.0                4096.0            20480.0                 0.0   1.0   \n",
       "2   0.0                   0.0                0.0                 0.0   0.0   \n",
       "3   0.0                   0.0                0.0                 0.0   0.0   \n",
       "4   1.0                4096.0            20480.0                 0.0   1.0   \n",
       "\n",
       "   UPX1_virtual_address  UPX1_virtual_size  UPX1_size_raw_data  .rsrc  \\\n",
       "0               24576.0             4096.0              3584.0    1.0   \n",
       "1               24576.0             4096.0              3584.0    1.0   \n",
       "2                   0.0                0.0                 0.0    0.0   \n",
       "3                   0.0                0.0                 0.0    0.0   \n",
       "4               24576.0             4096.0              4096.0    1.0   \n",
       "\n",
       "   .rsrc_virtual_address  ...  b'StartServiceA'  b'QueryServiceStatus'  \\\n",
       "0                28672.0  ...               0.0                    0.0   \n",
       "1                28672.0  ...               0.0                    0.0   \n",
       "2                    0.0  ...               0.0                    0.0   \n",
       "3                    0.0  ...               0.0                    0.0   \n",
       "4                28672.0  ...               0.0                    0.0   \n",
       "\n",
       "   b'RegisterServiceCtrlHandlerA'  b'SetServiceStatus'  \\\n",
       "0                             0.0                  0.0   \n",
       "1                             0.0                  0.0   \n",
       "2                             0.0                  0.0   \n",
       "3                             0.0                  0.0   \n",
       "4                             0.0                  0.0   \n",
       "\n",
       "   b'StartServiceCtrlDispatcherA'  b'printf'  b'WSASetLastError'  \\\n",
       "0                             0.0        0.0                 0.0   \n",
       "1                             0.0        0.0                 0.0   \n",
       "2                             0.0        0.0                 0.0   \n",
       "3                             0.0        0.0                 0.0   \n",
       "4                             0.0        0.0                 0.0   \n",
       "\n",
       "   b'ShellExecuteA'  b'ntdll.dll'  b'WSAGetLastError'  \n",
       "0               0.0           0.0                 0.0  \n",
       "1               0.0           0.0                 0.0  \n",
       "2               0.0           0.0                 0.0  \n",
       "3               0.0           0.0                 0.0  \n",
       "4               0.0           0.0                 0.0  \n",
       "\n",
       "[5 rows x 157 columns]"
      ]
     },
     "execution_count": 35,
     "metadata": {},
     "output_type": "execute_result"
    }
   ],
   "source": [
    "df.head()"
   ]
  },
  {
   "cell_type": "markdown",
   "id": "3cf1f262",
   "metadata": {},
   "source": [
    "## Parte 2. Implementación del modelo"
   ]
  },
  {
   "cell_type": "code",
   "execution_count": 36,
   "id": "b90f2bbd",
   "metadata": {},
   "outputs": [
    {
     "name": "stdout",
     "output_type": "stream",
     "text": [
      "Collecting kneed\n",
      "  Downloading kneed-0.7.0-py2.py3-none-any.whl (9.4 kB)\n",
      "Requirement already satisfied: scipy in /Library/Frameworks/Python.framework/Versions/3.10/lib/python3.10/site-packages (from kneed) (1.8.0)\n",
      "Requirement already satisfied: matplotlib in /Library/Frameworks/Python.framework/Versions/3.10/lib/python3.10/site-packages (from kneed) (3.5.1)\n",
      "Requirement already satisfied: numpy>=1.14.2 in /Library/Frameworks/Python.framework/Versions/3.10/lib/python3.10/site-packages (from kneed) (1.22.2)\n",
      "Requirement already satisfied: packaging>=20.0 in /Library/Frameworks/Python.framework/Versions/3.10/lib/python3.10/site-packages (from matplotlib->kneed) (21.3)\n",
      "Requirement already satisfied: python-dateutil>=2.7 in /Library/Frameworks/Python.framework/Versions/3.10/lib/python3.10/site-packages (from matplotlib->kneed) (2.8.2)\n",
      "Requirement already satisfied: cycler>=0.10 in /Library/Frameworks/Python.framework/Versions/3.10/lib/python3.10/site-packages (from matplotlib->kneed) (0.11.0)\n",
      "Requirement already satisfied: kiwisolver>=1.0.1 in /Library/Frameworks/Python.framework/Versions/3.10/lib/python3.10/site-packages (from matplotlib->kneed) (1.3.2)\n",
      "Requirement already satisfied: pillow>=6.2.0 in /Library/Frameworks/Python.framework/Versions/3.10/lib/python3.10/site-packages (from matplotlib->kneed) (9.0.1)\n",
      "Requirement already satisfied: pyparsing>=2.2.1 in /Library/Frameworks/Python.framework/Versions/3.10/lib/python3.10/site-packages (from matplotlib->kneed) (3.0.7)\n",
      "Requirement already satisfied: fonttools>=4.22.0 in /Library/Frameworks/Python.framework/Versions/3.10/lib/python3.10/site-packages (from matplotlib->kneed) (4.29.1)\n",
      "Requirement already satisfied: six>=1.5 in /Library/Frameworks/Python.framework/Versions/3.10/lib/python3.10/site-packages (from python-dateutil>=2.7->matplotlib->kneed) (1.16.0)\n",
      "Installing collected packages: kneed\n",
      "Successfully installed kneed-0.7.0\n",
      "\u001b[33mWARNING: You are using pip version 22.0.3; however, version 22.0.4 is available.\n",
      "You should consider upgrading via the '/Library/Frameworks/Python.framework/Versions/3.10/bin/python3.10 -m pip install --upgrade pip' command.\u001b[0m\u001b[33m\n",
      "\u001b[0m"
     ]
    }
   ],
   "source": [
    "!pip install kneed"
   ]
  },
  {
   "cell_type": "code",
   "execution_count": 37,
   "id": "2a8f36a9",
   "metadata": {},
   "outputs": [],
   "source": [
    "import matplotlib.pyplot as plt\n",
    "from sklearn.datasets import make_blobs\n",
    "from sklearn.cluster import KMeans\n",
    "from sklearn.preprocessing import StandardScaler"
   ]
  },
  {
   "cell_type": "code",
   "execution_count": 39,
   "id": "dcda3639",
   "metadata": {},
   "outputs": [
    {
     "name": "stderr",
     "output_type": "stream",
     "text": [
      "/Library/Frameworks/Python.framework/Versions/3.10/lib/python3.10/site-packages/sklearn/utils/validation.py:1688: FutureWarning: Feature names only support names that are all strings. Got feature names with dtypes: ['bytes', 'str']. An error will be raised in 1.2.\n",
      "  warnings.warn(\n",
      "/Library/Frameworks/Python.framework/Versions/3.10/lib/python3.10/site-packages/sklearn/utils/validation.py:1688: FutureWarning: Feature names only support names that are all strings. Got feature names with dtypes: ['bytes', 'str']. An error will be raised in 1.2.\n",
      "  warnings.warn(\n"
     ]
    }
   ],
   "source": [
    "scaler = StandardScaler()\n",
    "X = scaler.fit_transform(df)"
   ]
  },
  {
   "cell_type": "code",
   "execution_count": 41,
   "id": "268bd386",
   "metadata": {},
   "outputs": [
    {
     "name": "stderr",
     "output_type": "stream",
     "text": [
      "/var/folders/3q/f_c12djx2yxc8v2vq4255gcm0000gn/T/ipykernel_34535/935257218.py:3: ConvergenceWarning: Number of distinct clusters (11) found smaller than n_clusters (12). Possibly due to duplicate points in X.\n",
      "  score = [kmeans[i].fit(X).score(X) for i in range(len(kmeans))]\n",
      "/var/folders/3q/f_c12djx2yxc8v2vq4255gcm0000gn/T/ipykernel_34535/935257218.py:3: ConvergenceWarning: Number of distinct clusters (11) found smaller than n_clusters (13). Possibly due to duplicate points in X.\n",
      "  score = [kmeans[i].fit(X).score(X) for i in range(len(kmeans))]\n",
      "/var/folders/3q/f_c12djx2yxc8v2vq4255gcm0000gn/T/ipykernel_34535/935257218.py:3: ConvergenceWarning: Number of distinct clusters (11) found smaller than n_clusters (14). Possibly due to duplicate points in X.\n",
      "  score = [kmeans[i].fit(X).score(X) for i in range(len(kmeans))]\n",
      "/var/folders/3q/f_c12djx2yxc8v2vq4255gcm0000gn/T/ipykernel_34535/935257218.py:3: ConvergenceWarning: Number of distinct clusters (11) found smaller than n_clusters (15). Possibly due to duplicate points in X.\n",
      "  score = [kmeans[i].fit(X).score(X) for i in range(len(kmeans))]\n",
      "/var/folders/3q/f_c12djx2yxc8v2vq4255gcm0000gn/T/ipykernel_34535/935257218.py:3: ConvergenceWarning: Number of distinct clusters (11) found smaller than n_clusters (16). Possibly due to duplicate points in X.\n",
      "  score = [kmeans[i].fit(X).score(X) for i in range(len(kmeans))]\n",
      "/var/folders/3q/f_c12djx2yxc8v2vq4255gcm0000gn/T/ipykernel_34535/935257218.py:3: ConvergenceWarning: Number of distinct clusters (11) found smaller than n_clusters (17). Possibly due to duplicate points in X.\n",
      "  score = [kmeans[i].fit(X).score(X) for i in range(len(kmeans))]\n",
      "/var/folders/3q/f_c12djx2yxc8v2vq4255gcm0000gn/T/ipykernel_34535/935257218.py:3: ConvergenceWarning: Number of distinct clusters (11) found smaller than n_clusters (18). Possibly due to duplicate points in X.\n",
      "  score = [kmeans[i].fit(X).score(X) for i in range(len(kmeans))]\n",
      "/var/folders/3q/f_c12djx2yxc8v2vq4255gcm0000gn/T/ipykernel_34535/935257218.py:3: ConvergenceWarning: Number of distinct clusters (11) found smaller than n_clusters (19). Possibly due to duplicate points in X.\n",
      "  score = [kmeans[i].fit(X).score(X) for i in range(len(kmeans))]\n"
     ]
    },
    {
     "data": {
      "image/png": "[encoded data removed]",
      "text/plain": [
       "<Figure size 432x288 with 1 Axes>"
      ]
     },
     "metadata": {
      "needs_background": "light"
     },
     "output_type": "display_data"
    }
   ],
   "source": [
    "Nc = range(1, 20)\n",
    "kmeans = [KMeans(n_clusters=i) for i in Nc]\n",
    "score = [kmeans[i].fit(X).score(X) for i in range(len(kmeans))]\n",
    "plt.plot(Nc,score)\n",
    "plt.xlabel('Number of Clusters')\n",
    "plt.ylabel('Score')\n",
    "plt.title('Elbow Curve')\n",
    "plt.xticks(Nc, Nc)\n",
    "plt.show()"
   ]
  },
  {
   "cell_type": "markdown",
   "id": "30524b39",
   "metadata": {},
   "source": [
    "Se puede observar que la grafica del codo indica usar 5 clusters"
   ]
  },
  {
   "cell_type": "code",
   "execution_count": 43,
   "id": "e5201c93",
   "metadata": {},
   "outputs": [],
   "source": [
    "from sklearn.metrics import silhouette_score\n",
    "from sklearn.cluster import DBSCAN"
   ]
  },
  {
   "cell_type": "code",
   "execution_count": 45,
   "id": "45e4f964",
   "metadata": {},
   "outputs": [],
   "source": [
    "clusters = DBSCAN(eps = 0.005, min_samples = 2).fit(X)"
   ]
  },
  {
   "cell_type": "code",
   "execution_count": 46,
   "id": "995e5129",
   "metadata": {},
   "outputs": [
    {
     "data": {
      "text/plain": [
       "array([ 0,  0,  1,  1,  2, -1, -1,  3,  2,  2,  2,  4,  2,  1,  2,  1,  2,\n",
       "        0,  2,  2,  0,  1,  5,  0,  2,  1,  4,  2,  2,  4,  5,  2,  3,  2,\n",
       "        6,  2,  1,  6,  0,  6])"
      ]
     },
     "execution_count": 46,
     "metadata": {},
     "output_type": "execute_result"
    }
   ],
   "source": [
    "clusters.labels_"
   ]
  },
  {
   "cell_type": "code",
   "execution_count": 72,
   "id": "4e961194",
   "metadata": {},
   "outputs": [
    {
     "name": "stderr",
     "output_type": "stream",
     "text": [
      "/var/folders/3q/f_c12djx2yxc8v2vq4255gcm0000gn/T/ipykernel_34535/1467758647.py:13: ConvergenceWarning: Number of distinct clusters (11) found smaller than n_clusters (12). Possibly due to duplicate points in X.\n",
      "  ).fit(X)\n",
      "/var/folders/3q/f_c12djx2yxc8v2vq4255gcm0000gn/T/ipykernel_34535/1467758647.py:13: ConvergenceWarning: Number of distinct clusters (11) found smaller than n_clusters (13). Possibly due to duplicate points in X.\n",
      "  ).fit(X)\n",
      "/var/folders/3q/f_c12djx2yxc8v2vq4255gcm0000gn/T/ipykernel_34535/1467758647.py:13: ConvergenceWarning: Number of distinct clusters (11) found smaller than n_clusters (14). Possibly due to duplicate points in X.\n",
      "  ).fit(X)\n",
      "/var/folders/3q/f_c12djx2yxc8v2vq4255gcm0000gn/T/ipykernel_34535/1467758647.py:13: ConvergenceWarning: Number of distinct clusters (11) found smaller than n_clusters (15). Possibly due to duplicate points in X.\n",
      "  ).fit(X)\n"
     ]
    }
   ],
   "source": [
    "from sklearn.metrics import silhouette_score\n",
    "\n",
    "sil = []\n",
    "kmax = 15\n",
    "\n",
    "for k in range (2, kmax+1):\n",
    "    kmeans = KMeans(\n",
    "        init = \"random\",\n",
    "        n_clusters = k,\n",
    "        n_init = 1,\n",
    "        max_iter = 200,\n",
    "        random_state = 123\n",
    "    ).fit(X)\n",
    "    etiquetas = kmeans.labels_\n",
    "    sil.append(silhouette_score(X, etiquetas, metric = 'euclidean'))"
   ]
  },
  {
   "cell_type": "code",
   "execution_count": 73,
   "id": "e299fe4f",
   "metadata": {},
   "outputs": [
    {
     "name": "stdout",
     "output_type": "stream",
     "text": [
      "[1, 2, 3, 4, 5, 6, 7, 8, 9, 10, 11, 12, 13, 14]\n"
     ]
    },
    {
     "data": {
      "text/plain": [
       "<matplotlib.collections.PathCollection at 0x28aadff10>"
      ]
     },
     "execution_count": 73,
     "metadata": {},
     "output_type": "execute_result"
    },
    {
     "data": {
      "image/png": "[encoded data removed]",
      "text/plain": [
       "<Figure size 432x288 with 1 Axes>"
      ]
     },
     "metadata": {
      "needs_background": "light"
     },
     "output_type": "display_data"
    }
   ],
   "source": [
    "k = [1,2,3,4,5,6,7,8,9,10,11,12,13,14]\n",
    "print(k)\n",
    " \n",
    "plt.scatter(k, sil)"
   ]
  },
  {
   "cell_type": "code",
   "execution_count": 74,
   "id": "d479527f",
   "metadata": {},
   "outputs": [
    {
     "name": "stdout",
     "output_type": "stream",
     "text": [
      "[0.5850438552238554, 0.7572117451799683, 0.6771496520567286, 0.7589530564104795, 0.8094787416438856, 0.8092198830003701, 0.795944393259964, 0.9499841478249904, 0.9497252978719756, 0.9221767275228568, 0.9221767275228568, 0.9221767275228568, 0.9221767275228568, 0.9221767275228568]\n"
     ]
    }
   ],
   "source": [
    "print(sil)"
   ]
  },
  {
   "cell_type": "markdown",
   "id": "4684314d",
   "metadata": {},
   "source": [
    "# Conclusión "
   ]
  },
  {
   "cell_type": "markdown",
   "id": "bc2753cf",
   "metadata": {},
   "source": [
    "* **¿Para qué número de clústeres se obtiene el coeficiente de sillhouete más alto?** 8 y 9 clusters.\n",
    "* **¿Coincide con el método del codo?** No, el metodo del codo indica 5.\n",
    "* **¿Cuántas familias existen entre los ejemplares de malware proporcionados?** Se obtuvieron 9 familias diferentes."
   ]
  },
  {
   "cell_type": "code",
   "execution_count": null,
   "id": "b148a64d",
   "metadata": {},
   "outputs": [],
   "source": []
  }
 ],
 "metadata": {
  "kernelspec": {
   "display_name": "Python 3 (ipykernel)",
   "language": "python",
   "name": "python3"
  },
  "language_info": {
   "codemirror_mode": {
    "name": "ipython",
    "version": 3
   },
   "file_extension": ".py",
   "mimetype": "text/x-python",
   "name": "python",
   "nbconvert_exporter": "python",
   "pygments_lexer": "ipython3",
   "version": "3.10.2"
  }
 },
 "nbformat": 4,
 "nbformat_minor": 5
}
