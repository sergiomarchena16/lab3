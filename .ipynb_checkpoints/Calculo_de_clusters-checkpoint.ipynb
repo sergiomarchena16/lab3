{
 "cells": [
  {
   "cell_type": "code",
   "execution_count": null,
   "metadata": {
    "id": "wwtFUtvGu-FX"
   },
   "outputs": [],
   "source": [
    "import pandas as pd\n",
    "import numpy as np\n",
    "\n"
   ]
  },
  {
   "cell_type": "markdown",
   "metadata": {
    "id": "LnU82uy9QqkT"
   },
   "source": [
    "# K - means\n",
    "\n"
   ]
  },
  {
   "cell_type": "code",
   "execution_count": null,
   "metadata": {
    "colab": {
     "base_uri": "https://localhost:8080/"
    },
    "id": "deYVRYl8QwpH",
    "outputId": "5e7e90f3-f154-47a2-d5ed-952826d1db9f"
   },
   "outputs": [
    {
     "name": "stdout",
     "output_type": "stream",
     "text": [
      "Collecting kneed\n",
      "  Downloading kneed-0.7.0-py2.py3-none-any.whl (9.4 kB)\n",
      "Requirement already satisfied: matplotlib in /usr/local/lib/python3.7/dist-packages (from kneed) (3.2.2)\n",
      "Requirement already satisfied: numpy>=1.14.2 in /usr/local/lib/python3.7/dist-packages (from kneed) (1.19.5)\n",
      "Requirement already satisfied: scipy in /usr/local/lib/python3.7/dist-packages (from kneed) (1.4.1)\n",
      "Requirement already satisfied: pyparsing!=2.0.4,!=2.1.2,!=2.1.6,>=2.0.1 in /usr/local/lib/python3.7/dist-packages (from matplotlib->kneed) (3.0.7)\n",
      "Requirement already satisfied: kiwisolver>=1.0.1 in /usr/local/lib/python3.7/dist-packages (from matplotlib->kneed) (1.3.2)\n",
      "Requirement already satisfied: cycler>=0.10 in /usr/local/lib/python3.7/dist-packages (from matplotlib->kneed) (0.11.0)\n",
      "Requirement already satisfied: python-dateutil>=2.1 in /usr/local/lib/python3.7/dist-packages (from matplotlib->kneed) (2.8.2)\n",
      "Requirement already satisfied: six>=1.5 in /usr/local/lib/python3.7/dist-packages (from python-dateutil>=2.1->matplotlib->kneed) (1.15.0)\n",
      "Installing collected packages: kneed\n",
      "Successfully installed kneed-0.7.0\n"
     ]
    }
   ],
   "source": [
    "!pip install kneed"
   ]
  },
  {
   "cell_type": "code",
   "execution_count": null,
   "metadata": {
    "id": "XwSLA691Q0_t"
   },
   "outputs": [],
   "source": [
    "import matplotlib.pyplot as plt\n",
    "from sklearn.datasets import make_blobs\n",
    "from sklearn.cluster import KMeans\n",
    "from sklearn.preprocessing import StandardScaler"
   ]
  },
  {
   "cell_type": "code",
   "execution_count": null,
   "metadata": {
    "colab": {
     "base_uri": "https://localhost:8080/"
    },
    "id": "QODzYdMVRfZA",
    "outputId": "b165c457-caac-4758-d0ca-5c65b32eab00"
   },
   "outputs": [
    {
     "data": {
      "text/plain": [
       "array([[ 0.83685684,  2.13635938],\n",
       "       [-1.4136581 ,  7.40962324],\n",
       "       [ 1.15521298,  5.09961887],\n",
       "       [-1.01861632,  7.81491465],\n",
       "       [ 1.27135141,  1.89254207]])"
      ]
     },
     "execution_count": 4,
     "metadata": {},
     "output_type": "execute_result"
    }
   ],
   "source": [
    "caracteristicas, etiquetas = make_blobs(\n",
    "    n_samples = 300,\n",
    "    centers = 4,\n",
    "    cluster_std = 0.60,\n",
    "    random_state = 0\n",
    ")\n",
    "\n",
    "caracteristicas[:5]\n"
   ]
  },
  {
   "cell_type": "code",
   "execution_count": null,
   "metadata": {
    "colab": {
     "base_uri": "https://localhost:8080/"
    },
    "id": "KYMXztnTR8R6",
    "outputId": "fb968cf9-8d8d-43ed-b26a-8b3ba2db2f22"
   },
   "outputs": [
    {
     "data": {
      "text/plain": [
       "array([1, 3, 0, 3, 1])"
      ]
     },
     "execution_count": 5,
     "metadata": {},
     "output_type": "execute_result"
    }
   ],
   "source": [
    "etiquetas[:5]"
   ]
  },
  {
   "cell_type": "code",
   "execution_count": null,
   "metadata": {
    "colab": {
     "base_uri": "https://localhost:8080/",
     "height": 283
    },
    "id": "puyfcmO0SAj3",
    "outputId": "adcee814-c30a-458a-94ae-c0867e63cb3b"
   },
   "outputs": [
    {
     "data": {
      "text/plain": [
       "<matplotlib.collections.PathCollection at 0x7f6584019f50>"
      ]
     },
     "execution_count": 6,
     "metadata": {},
     "output_type": "execute_result"
    },
    {
     "data": {
      "image/png": "[encoded data removed]",
      "text/plain": [
       "<Figure size 432x288 with 1 Axes>"
      ]
     },
     "metadata": {
      "needs_background": "light"
     },
     "output_type": "display_data"
    }
   ],
   "source": [
    "plt.scatter(caracteristicas[:, 0], caracteristicas[:, 1], s = 50)"
   ]
  },
  {
   "cell_type": "markdown",
   "metadata": {
    "id": "mjljzPySSrnC"
   },
   "source": [
    "Escalamiento de características\n",
    "\n",
    "Muchas características están medidas en distintas unidades.\n",
    "\n",
    "Por ejemplo, la altura de una persona puede estar dada en centimetros y su peso en libras. Un algoritmo puede elegir peso sobre altura como porque el peso es más variable y sus cantidades con mayores que las de altura.\n",
    "\n",
    "Para corregir esto se utiliza el escalamiento"
   ]
  },
  {
   "cell_type": "code",
   "execution_count": null,
   "metadata": {
    "colab": {
     "base_uri": "https://localhost:8080/"
    },
    "id": "nfgTP9XMTO4j",
    "outputId": "3683fee9-97b8-486a-ecf9-2d103fc630f1"
   },
   "outputs": [
    {
     "data": {
      "text/plain": [
       "array([[ 0.51625508, -0.70722723],\n",
       "       [-0.86166376,  1.3290677 ],\n",
       "       [ 0.71117444,  0.43704896],\n",
       "       [-0.61979222,  1.48557283],\n",
       "       [ 0.78228231, -0.8013784 ]])"
      ]
     },
     "execution_count": 7,
     "metadata": {},
     "output_type": "execute_result"
    }
   ],
   "source": [
    "scaler = StandardScaler()\n",
    "X = scaler.fit_transform(caracteristicas)\n",
    "X[:5]"
   ]
  },
  {
   "cell_type": "code",
   "execution_count": null,
   "metadata": {
    "id": "CFUVaCAlTv1n"
   },
   "outputs": [],
   "source": [
    "kmeans = KMeans(\n",
    "    init = \"random\",\n",
    "    n_clusters = 5,\n",
    "    n_init = 1,\n",
    "    max_iter = 200,\n",
    "    random_state = 123\n",
    ")"
   ]
  },
  {
   "cell_type": "code",
   "execution_count": null,
   "metadata": {
    "colab": {
     "base_uri": "https://localhost:8080/"
    },
    "id": "TXnVmqa0T7Td",
    "outputId": "7307083f-7d3a-48d4-8fd1-ff5f599060ac"
   },
   "outputs": [
    {
     "data": {
      "text/plain": [
       "KMeans(init='random', max_iter=200, n_clusters=5, n_init=1, random_state=123)"
      ]
     },
     "execution_count": 29,
     "metadata": {},
     "output_type": "execute_result"
    }
   ],
   "source": [
    "kmeans.fit(X)"
   ]
  },
  {
   "cell_type": "code",
   "execution_count": null,
   "metadata": {
    "colab": {
     "base_uri": "https://localhost:8080/"
    },
    "id": "vSRmh5OlUE4Q",
    "outputId": "cbc1f9bd-3472-4e25-8243-1432bd886342"
   },
   "outputs": [
    {
     "data": {
      "text/plain": [
       "48.60211490891997"
      ]
     },
     "execution_count": 30,
     "metadata": {},
     "output_type": "execute_result"
    }
   ],
   "source": [
    "#SSE\n",
    "kmeans.inertia_"
   ]
  },
  {
   "cell_type": "code",
   "execution_count": null,
   "metadata": {
    "colab": {
     "base_uri": "https://localhost:8080/"
    },
    "id": "lAfg4dJpUKo-",
    "outputId": "e220afa3-41e1-4f47-dae1-b762221e7375"
   },
   "outputs": [
    {
     "data": {
      "text/plain": [
       "array([[ 0.58536699,  0.17425154],\n",
       "       [ 1.21774671, -1.19712077],\n",
       "       [-0.96619422, -0.43906093],\n",
       "       [-0.48388227,  1.49832993],\n",
       "       [-1.11430586,  1.43333033]])"
      ]
     },
     "execution_count": 31,
     "metadata": {},
     "output_type": "execute_result"
    }
   ],
   "source": [
    "#Posiciones finales de los centroides\n",
    "kmeans.cluster_centers_"
   ]
  },
  {
   "cell_type": "code",
   "execution_count": null,
   "metadata": {
    "colab": {
     "base_uri": "https://localhost:8080/"
    },
    "id": "v5AEwiL6URkf",
    "outputId": "41c385a9-46b8-428a-f6c1-de6363cc570c"
   },
   "outputs": [
    {
     "data": {
      "text/plain": [
       "10"
      ]
     },
     "execution_count": 32,
     "metadata": {},
     "output_type": "execute_result"
    }
   ],
   "source": [
    "#Iteraciones para converger\n",
    "kmeans.n_iter_"
   ]
  },
  {
   "cell_type": "code",
   "execution_count": null,
   "metadata": {
    "colab": {
     "base_uri": "https://localhost:8080/"
    },
    "id": "o57GVoy8UYG8",
    "outputId": "af92f7be-9b5a-4fa9-8c83-5d3da4c349dd"
   },
   "outputs": [
    {
     "data": {
      "text/plain": [
       "array([1, 4, 0, 3, 1], dtype=int32)"
      ]
     },
     "execution_count": 33,
     "metadata": {},
     "output_type": "execute_result"
    }
   ],
   "source": [
    "kmeans.labels_[:5]"
   ]
  },
  {
   "cell_type": "code",
   "execution_count": null,
   "metadata": {
    "colab": {
     "base_uri": "https://localhost:8080/"
    },
    "id": "a53YcE2NUjPt",
    "outputId": "93feb3d3-7036-4e57-b39d-29a010d5d934"
   },
   "outputs": [
    {
     "data": {
      "text/plain": [
       "array([1, 4, 0, 3, 1], dtype=int32)"
      ]
     },
     "execution_count": 34,
     "metadata": {},
     "output_type": "execute_result"
    }
   ],
   "source": [
    "y_kmeans = kmeans.predict(X)\n",
    "y_kmeans[:5]"
   ]
  },
  {
   "cell_type": "code",
   "execution_count": null,
   "metadata": {
    "colab": {
     "base_uri": "https://localhost:8080/",
     "height": 265
    },
    "id": "jgJUvYqbVGdU",
    "outputId": "18b41d74-15d5-4ec9-8114-04d3997cef27"
   },
   "outputs": [
    {
     "data": {
      "image/png": "[encoded data removed]",
      "text/plain": [
       "<Figure size 432x288 with 1 Axes>"
      ]
     },
     "metadata": {
      "needs_background": "light"
     },
     "output_type": "display_data"
    }
   ],
   "source": [
    "plt.scatter(X[:,0], X[:,1], c=y_kmeans, s=50, cmap='viridis')\n",
    "\n",
    "\n",
    "centers = kmeans.cluster_centers_\n",
    "plt.scatter(centers[:, 0], centers[:, 1], c='red', s=200, alpha=0.5);\n"
   ]
  },
  {
   "cell_type": "markdown",
   "metadata": {
    "id": "HswP-hk399Hn"
   },
   "source": [
    "# Método del codo"
   ]
  },
  {
   "cell_type": "code",
   "execution_count": null,
   "metadata": {
    "id": "Rsrh7UQe-CPF"
   },
   "outputs": [],
   "source": [
    "# function returns WSS score for k values from 1 to kmax\n",
    "def calculate_WSS(points, kmax):\n",
    "  sse = []\n",
    "  for k in range(1, kmax+1):\n",
    "    kmeans = KMeans(\n",
    "        init = \"random\",\n",
    "        n_clusters = k,\n",
    "        n_init = 1,\n",
    "        max_iter = 200,\n",
    "        random_state = 123\n",
    "    ).fit(points)\n",
    "    centroids = kmeans.cluster_centers_\n",
    "    pred_clusters = kmeans.predict(points)\n",
    "    curr_sse = 0\n",
    "    \n",
    "    # calculate square of Euclidean distance of each point from its cluster center and add to current WSS\n",
    "    for i in range(len(points)):\n",
    "      curr_center = centroids[pred_clusters[i]]\n",
    "      curr_sse += (points[i, 0] - curr_center[0]) ** 2 + (points[i, 1] - curr_center[1]) ** 2\n",
    "      \n",
    "    sse.append(curr_sse)\n",
    "  return sse"
   ]
  },
  {
   "cell_type": "code",
   "execution_count": null,
   "metadata": {
    "id": "UfeCQyoQ_CzR"
   },
   "outputs": [],
   "source": [
    "wss = calculate_WSS(X, 15)\n",
    "k = [1,2,3,4,5,6,7,8,9,10,11,12,13,14,15]"
   ]
  },
  {
   "cell_type": "code",
   "execution_count": null,
   "metadata": {
    "colab": {
     "base_uri": "https://localhost:8080/"
    },
    "id": "v5Hra3gnAD0k",
    "outputId": "a649be06-ba3a-475f-e074-70b4ae5dedc3"
   },
   "outputs": [
    {
     "name": "stdout",
     "output_type": "stream",
     "text": [
      "[600.0000000000001, 270.3431137506445, 139.3463451076978, 56.02477057509948, 48.60211490891996, 42.435470767920215, 40.40080989303089, 34.05428699090218, 27.478101803738344, 25.916617313002384, 24.096872076849717, 23.93101597368565, 22.221449651914963, 20.523492997630633, 19.750253347905097]\n"
     ]
    }
   ],
   "source": [
    "print(wss)"
   ]
  },
  {
   "cell_type": "code",
   "execution_count": null,
   "metadata": {
    "colab": {
     "base_uri": "https://localhost:8080/",
     "height": 283
    },
    "id": "b_c-zaSu_NGa",
    "outputId": "539d1ebf-60b4-43e1-ba8d-2caaec6a22b3"
   },
   "outputs": [
    {
     "data": {
      "text/plain": [
       "<matplotlib.collections.PathCollection at 0x7f6576a92250>"
      ]
     },
     "execution_count": 11,
     "metadata": {},
     "output_type": "execute_result"
    },
    {
     "data": {
      "image/png": "[encoded data removed]",
      "text/plain": [
       "<Figure size 432x288 with 1 Axes>"
      ]
     },
     "metadata": {
      "needs_background": "light"
     },
     "output_type": "display_data"
    }
   ],
   "source": [
    "plt.scatter(k[:], wss[:], s = 70)"
   ]
  },
  {
   "cell_type": "markdown",
   "metadata": {
    "id": "oc8Fa4HCxpW2"
   },
   "source": [
    "# Coeficiente de Silhouette"
   ]
  },
  {
   "cell_type": "code",
   "execution_count": null,
   "metadata": {
    "id": "ukqWfJ0-xvXQ"
   },
   "outputs": [],
   "source": [
    "from sklearn.metrics import silhouette_score\n",
    "\n",
    "sil = []\n",
    "kmax = 15\n",
    "\n",
    "for k in range (2, kmax+1):\n",
    "  kmeans = KMeans(\n",
    "        init = \"random\",\n",
    "        n_clusters = k,\n",
    "        n_init = 1,\n",
    "        max_iter = 200,\n",
    "        random_state = 123\n",
    "    ).fit(X)\n",
    "  etiquetas = kmeans.labels_\n",
    "  sil.append(silhouette_score(X, etiquetas, metric = 'euclidean'))\n",
    "\n"
   ]
  },
  {
   "cell_type": "code",
   "execution_count": null,
   "metadata": {
    "colab": {
     "base_uri": "https://localhost:8080/",
     "height": 302
    },
    "id": "8zfxfHB3y9zx",
    "outputId": "e4a07075-3551-40ad-c5c8-fcea60ffa741"
   },
   "outputs": [
    {
     "name": "stdout",
     "output_type": "stream",
     "text": [
      "[1, 2, 3, 4, 5, 6, 7, 8, 9, 10, 11, 12, 13, 14]\n"
     ]
    },
    {
     "data": {
      "text/plain": [
       "<matplotlib.collections.PathCollection at 0x7f65769d37d0>"
      ]
     },
     "execution_count": 13,
     "metadata": {},
     "output_type": "execute_result"
    },
    {
     "data": {
      "image/png": "[encoded data removed]",
      "text/plain": [
       "<Figure size 432x288 with 1 Axes>"
      ]
     },
     "metadata": {
      "needs_background": "light"
     },
     "output_type": "display_data"
    }
   ],
   "source": [
    "  k = [1,2,3,4,5,6,7,8,9,10,11,12,13,14]\n",
    "  print(k)\n",
    " \n",
    "  plt.scatter(k, sil)\n",
    "\n"
   ]
  },
  {
   "cell_type": "code",
   "execution_count": null,
   "metadata": {
    "colab": {
     "base_uri": "https://localhost:8080/"
    },
    "id": "ZQ8Xc91W0LfJ",
    "outputId": "42e57288-c1a2-4c44-ee78-8d2868ca6821"
   },
   "outputs": [
    {
     "name": "stdout",
     "output_type": "stream",
     "text": [
      "[0.4768094347435569, 0.5711587835183477, 0.6569234398199433, 0.581073283085342, 0.50110159911141, 0.4834225281678569, 0.4267273437630956, 0.3781924471482038, 0.3656120580579928, 0.3807788092618995, 0.3726439514813749, 0.37551982768893616, 0.35347197353393656, 0.3467007146966593]\n"
     ]
    }
   ],
   "source": [
    "print(sil)"
   ]
  },
  {
   "cell_type": "markdown",
   "metadata": {
    "id": "T6oUgy3D5gcH"
   },
   "source": [
    "# Algoritmo DBSCAN"
   ]
  },
  {
   "cell_type": "code",
   "execution_count": null,
   "metadata": {
    "colab": {
     "base_uri": "https://localhost:8080/",
     "height": 1000
    },
    "id": "VYyuE19K5_Tn",
    "outputId": "60156ecf-29ad-4ff5-9512-9cea10883a06"
   },
   "outputs": [
    {
     "name": "stdout",
     "output_type": "stream",
     "text": [
      "[[ 0.51625508 -0.70722723]\n",
      " [-0.86166376  1.3290677 ]\n",
      " [ 0.71117444  0.43704896]\n",
      " [-0.61979222  1.48557283]\n",
      " [ 0.78228231 -0.8013784 ]\n",
      " [ 2.10861828 -1.43115321]\n",
      " [-1.10324303 -0.91549656]\n",
      " [ 0.86945278  0.15961938]\n",
      " [-0.12159925  1.72390048]\n",
      " [-0.43150951  1.81207571]\n",
      " [-1.04455722 -0.45953113]\n",
      " [-1.63088687  1.69370116]\n",
      " [ 0.7646714   0.2070449 ]\n",
      " [-1.36015934  1.13026612]\n",
      " [ 0.89480919 -1.54346749]\n",
      " [ 0.28171651 -0.00438029]\n",
      " [ 0.65853501  0.21735249]\n",
      " [ 1.57701536 -1.33639314]\n",
      " [-0.64935853 -0.32288814]\n",
      " [-0.65651282 -0.68090851]\n",
      " [ 1.66622125 -1.03373539]\n",
      " [ 1.0919422  -1.07399947]\n",
      " [ 0.45350191  0.41296662]\n",
      " [-1.21850803 -0.431015  ]\n",
      " [-1.17062784 -0.52619438]\n",
      " [-0.33625538  0.28117366]\n",
      " [ 1.04318676 -1.1977347 ]\n",
      " [ 0.36802836  0.28645966]\n",
      " [-1.75960686 -0.64234601]\n",
      " [ 0.11820038  0.02278917]\n",
      " [-0.31042356  1.50853321]\n",
      " [-1.25556833  1.31705549]\n",
      " [ 1.15047968  0.0822013 ]\n",
      " [-0.68873218  1.08073134]\n",
      " [-1.00287209  1.53424249]\n",
      " [-1.47740978  1.34061439]\n",
      " [-1.230501    1.35786636]\n",
      " [-1.6011428   1.55177363]\n",
      " [-1.34495244 -0.57473133]\n",
      " [ 1.02257982 -1.2761363 ]\n",
      " [ 0.41396352 -0.14380893]\n",
      " [-1.21171728 -0.73856444]\n",
      " [-0.02520366  0.58171547]\n",
      " [ 0.94959676  0.09382026]\n",
      " [-1.03821029 -0.58187081]\n",
      " [-0.62181818 -0.46323634]\n",
      " [-0.84009197  1.5967009 ]\n",
      " [-0.94649278 -0.47190828]\n",
      " [-0.90169688  1.39067292]\n",
      " [ 1.22164093 -0.94918863]\n",
      " [-1.18988    -0.18689193]\n",
      " [ 1.50705237 -1.29230067]\n",
      " [-0.54369436  1.40920307]\n",
      " [ 1.04281865 -1.24067997]\n",
      " [ 1.07929158 -0.73849667]\n",
      " [-0.67613548 -0.4424106 ]\n",
      " [-0.02153601  1.48317408]\n",
      " [-0.69467203 -0.76934064]\n",
      " [-1.10209635  1.45212872]\n",
      " [ 0.85654194 -1.17346897]\n",
      " [-1.37800709  1.28753831]\n",
      " [ 0.35388989  0.13710988]\n",
      " [-0.94510839  2.05245452]\n",
      " [-0.63177787 -0.39178596]\n",
      " [-1.28774654 -0.33249774]\n",
      " [-0.72260035 -0.4570308 ]\n",
      " [-1.50114222  1.36851879]\n",
      " [ 1.45470636 -1.16506848]\n",
      " [-1.62889831  1.4982178 ]\n",
      " [-0.91281812 -0.2910202 ]\n",
      " [ 0.81343033  0.08147367]\n",
      " [-0.29446654 -0.24684466]\n",
      " [-0.6311629   1.58137264]\n",
      " [-0.97879685 -0.38367031]\n",
      " [-0.91680928 -0.78928746]\n",
      " [-0.47700875  1.73202002]\n",
      " [-1.07239045 -0.38357802]\n",
      " [ 0.73252848  0.29344285]\n",
      " [ 1.3143973  -1.25954131]\n",
      " [-0.63006905  1.63643465]\n",
      " [ 0.77209479 -1.49757991]\n",
      " [ 0.36858821  0.04569048]\n",
      " [ 0.78730411 -1.12368149]\n",
      " [ 1.06282315 -1.08915946]\n",
      " [-0.57719384  1.73631406]\n",
      " [ 0.57654408  0.52670405]\n",
      " [ 1.45448066 -1.22530128]\n",
      " [ 0.26627814  0.38853954]\n",
      " [-1.24979571  1.03739047]\n",
      " [-0.88803297  1.35883083]\n",
      " [ 0.32801954 -0.06174483]\n",
      " [ 1.0949044  -1.18150544]\n",
      " [-1.19356975  1.79503795]\n",
      " [-1.06497481 -0.36913145]\n",
      " [-0.71847443 -0.3244262 ]\n",
      " [ 0.71662223 -0.06815281]\n",
      " [ 0.83751298 -1.00455731]\n",
      " [ 1.59661344 -1.11205808]\n",
      " [ 0.17065365  0.5800579 ]\n",
      " [-1.90787668 -0.26495876]\n",
      " [-0.35619167  1.79424878]\n",
      " [ 1.02580898 -1.70070161]\n",
      " [-0.41416719  1.43150676]\n",
      " [ 1.45366814 -1.31896113]\n",
      " [ 0.64823592  0.22287299]\n",
      " [ 1.36744074 -1.04449054]\n",
      " [ 1.49740858 -1.56019221]\n",
      " [ 0.82720216  0.34340357]\n",
      " [-0.80098266  1.10873443]\n",
      " [ 0.60547068  0.5435082 ]\n",
      " [-0.64693769 -0.67973515]\n",
      " [-0.98011737 -0.15573318]\n",
      " [ 0.96710792 -1.34531891]\n",
      " [-1.32996037  1.59019626]\n",
      " [ 1.12662626 -1.24101765]\n",
      " [ 1.29340941 -0.18253101]\n",
      " [-1.00231981  1.37436224]\n",
      " [ 0.6807395  -1.04413477]\n",
      " [ 0.99056269 -0.82804996]\n",
      " [ 0.28523269  0.57228316]\n",
      " [-0.32554023 -0.36738822]\n",
      " [ 1.03151441 -1.29700573]\n",
      " [-0.61583289 -0.14105358]\n",
      " [ 0.82550879 -1.30298091]\n",
      " [ 0.87826398 -0.90494167]\n",
      " [ 1.25599662 -1.09770853]\n",
      " [ 1.02807978 -1.27760023]\n",
      " [-0.82797731 -0.63553813]\n",
      " [ 0.6962206  -1.17089789]\n",
      " [-1.06083766 -0.77996393]\n",
      " [-0.20445553  1.6216632 ]\n",
      " [-0.99898213 -0.59256489]\n",
      " [-1.02935549 -0.66679063]\n",
      " [ 1.49193487 -1.55674037]\n",
      " [-0.84104397  1.2423431 ]\n",
      " [-0.76296401 -0.6289322 ]\n",
      " [-1.462401   -0.22001537]\n",
      " [-1.27688904  1.35679444]\n",
      " [ 0.30289519 -0.27023217]\n",
      " [-0.32640081  1.347099  ]\n",
      " [-1.58313624  1.58653093]\n",
      " [-0.63690439 -0.38730628]\n",
      " [ 0.77267957 -0.22620153]\n",
      " [-0.98892135  0.11742786]\n",
      " [ 1.14833912  0.56899873]\n",
      " [-1.07619233 -0.67406791]\n",
      " [-0.84216981  1.28195269]\n",
      " [ 0.00873033  0.0804446 ]\n",
      " [-0.67144849  1.28759648]\n",
      " [-1.0942373   1.3951952 ]\n",
      " [-0.92173425  1.53552131]\n",
      " [ 0.59126033  0.22897636]\n",
      " [-0.36430559  0.90056201]\n",
      " [ 0.14138528  0.30987385]\n",
      " [ 0.96345099 -1.52531511]\n",
      " [-0.62918213 -0.40421233]\n",
      " [-0.5608016   1.59522958]\n",
      " [-1.15092272 -0.66398383]\n",
      " [ 1.14804181 -1.16298833]\n",
      " [ 0.67812547  0.35601515]\n",
      " [-1.17911208  1.67537548]\n",
      " [ 0.41438707  0.02823634]\n",
      " [ 0.45932463  0.05969362]\n",
      " [ 1.00801716 -0.82958783]\n",
      " [ 0.5031594   0.3156583 ]\n",
      " [-1.60807242 -0.5161817 ]\n",
      " [-0.58456233 -1.04020191]\n",
      " [ 0.1348868   0.35433716]\n",
      " [ 0.88230882 -1.02763474]\n",
      " [ 0.74709078 -0.12351944]\n",
      " [ 0.66679281  0.03664525]\n",
      " [-0.74679871  1.67142393]\n",
      " [ 0.91107239 -1.2657167 ]\n",
      " [ 1.1646966   0.47017474]\n",
      " [-0.8065005   0.06282253]\n",
      " [-0.70017222  1.51582348]\n",
      " [ 1.51566151 -0.88392692]\n",
      " [ 1.41884006 -1.02872056]\n",
      " [ 0.35457767  0.04642912]\n",
      " [-0.58867594 -0.32667118]\n",
      " [ 1.61102938 -1.16527025]\n",
      " [ 1.03465096  0.0880477 ]\n",
      " [-1.35616777 -0.47779444]\n",
      " [-0.96256825 -0.36042233]\n",
      " [ 0.05378357  0.23153884]\n",
      " [ 0.88118892  0.15792619]\n",
      " [ 0.65452936  0.46667959]\n",
      " [ 0.47380404  0.1659599 ]\n",
      " [ 1.51629358 -1.0245869 ]\n",
      " [-1.05634889  1.23440176]\n",
      " [ 0.21641596 -0.19927287]\n",
      " [-0.60925389 -0.43210816]\n",
      " [ 0.62604921  0.19981552]\n",
      " [ 0.34645627  0.09506574]\n",
      " [-1.2930388  -0.74645208]\n",
      " [-0.83015405 -0.61185715]\n",
      " [-1.70047601 -0.37677313]\n",
      " [ 1.01549542 -0.12047732]\n",
      " [-1.18368532 -0.68673152]\n",
      " [-1.10731728  1.54867329]\n",
      " [ 0.73989742 -0.12498821]\n",
      " [-0.58953676 -0.27054138]\n",
      " [ 1.14872995 -1.57387315]\n",
      " [-1.10250146 -0.73372546]\n",
      " [ 0.74941798 -0.02893055]\n",
      " [-0.90454157  0.78773728]\n",
      " [-0.95363977 -0.43030045]\n",
      " [-0.41627057  1.82073259]\n",
      " [ 0.66284271  0.27686715]\n",
      " [-0.59369142  1.06956895]\n",
      " [ 0.84858822  0.22414093]\n",
      " [-1.00103929 -0.49692236]\n",
      " [ 0.00274217  0.23695826]\n",
      " [ 1.05357413  0.40831766]\n",
      " [-0.85651149  1.45128172]\n",
      " [-0.42972493 -0.56517897]\n",
      " [-0.53847201 -0.5104848 ]\n",
      " [ 1.2188404  -1.34314759]\n",
      " [ 1.81126451 -1.66515574]\n",
      " [ 0.26830739  0.14177035]\n",
      " [-1.13875117  1.41242718]\n",
      " [ 1.55111544 -1.29362116]\n",
      " [ 1.25331278 -1.35655164]\n",
      " [-1.57604627 -0.30096035]\n",
      " [ 0.99569311 -1.50607062]\n",
      " [-1.5806926  -0.32307605]\n",
      " [ 0.27547556 -0.32920119]\n",
      " [-0.2757938   1.28905648]\n",
      " [-0.68717806  1.48178204]\n",
      " [ 1.30802719  0.47275951]\n",
      " [ 0.61842327  0.08636584]\n",
      " [-0.84930181  1.84527661]\n",
      " [ 0.44966592 -0.04344488]\n",
      " [ 0.55093566 -1.14181661]\n",
      " [-0.67441476 -0.40456491]\n",
      " [ 0.48716114  0.14274808]\n",
      " [ 1.21343412 -1.25455122]\n",
      " [-0.76086464 -0.34077413]\n",
      " [-0.65595992  1.89727022]\n",
      " [-1.14014366 -0.34290372]\n",
      " [ 1.698685   -1.11212193]\n",
      " [ 0.17358283  0.33844993]\n",
      " [ 2.09223113 -1.19534591]\n",
      " [-0.96402488  1.38446319]\n",
      " [-0.9330649   1.44329141]\n",
      " [-1.11324497  1.30974698]\n",
      " [-1.02821571  1.53904744]\n",
      " [-1.00700897 -0.20150753]\n",
      " [-0.79477402 -0.37252391]\n",
      " [-0.44350908  0.87821885]\n",
      " [ 1.4770877   0.34856402]\n",
      " [-0.93676164 -0.36815271]\n",
      " [ 0.91529658 -1.28056077]\n",
      " [ 0.31877628  0.2546751 ]\n",
      " [-1.10720746 -0.26170608]\n",
      " [-1.18227953 -0.02093272]\n",
      " [-0.37261389 -0.00702224]\n",
      " [ 1.24781828 -1.45619402]\n",
      " [ 1.31974364 -1.13176058]\n",
      " [-0.83492955  1.46804747]\n",
      " [ 0.5636948   0.22486767]\n",
      " [ 0.20826068  0.37404379]\n",
      " [-1.31842995 -0.21539313]\n",
      " [ 0.84071408 -1.28699496]\n",
      " [-0.34579178  1.60842633]\n",
      " [-0.61177739 -0.34128939]\n",
      " [ 0.91917348 -0.04221927]\n",
      " [-0.35763815  1.43924042]\n",
      " [ 0.44175496  0.55819596]\n",
      " [ 1.29814959 -1.0504891 ]\n",
      " [ 0.73910488 -1.29985387]\n",
      " [-1.55481841 -0.31570852]\n",
      " [-1.19535519 -0.59380317]\n",
      " [ 1.43543259 -0.20723099]\n",
      " [ 2.05693766 -0.87589141]\n",
      " [ 1.13220571 -1.50412147]\n",
      " [ 0.8120721  -0.98992246]\n",
      " [ 1.28768161  0.33965895]\n",
      " [-0.75722362  1.61560957]\n",
      " [-1.134382    1.47546813]\n",
      " [ 1.68557087 -0.93541545]\n",
      " [ 1.60053682 -1.11170835]\n",
      " [ 1.02018469 -0.1563652 ]\n",
      " [ 1.4436307  -1.21245568]\n",
      " [ 1.36508262 -1.20829597]\n",
      " [ 1.98077505 -1.09517345]\n",
      " [-0.95050946  1.26671874]\n",
      " [-0.39223689 -0.2079085 ]\n",
      " [-0.8085373   1.7560329 ]\n",
      " [ 0.56544576 -0.02398813]\n",
      " [ 1.4088433  -1.82794485]\n",
      " [ 1.11550728 -1.09981597]\n",
      " [-0.68196894  1.21348877]\n",
      " [-1.00947337  1.79420796]\n",
      " [-0.77718302  1.54459654]\n",
      " [ 1.21230664 -0.92214576]\n",
      " [ 1.54577496 -0.9947553 ]\n",
      " [ 0.27265393  0.21937748]\n",
      " [ 0.23009426  1.47637871]\n",
      " [-1.0929784  -0.47039493]]\n"
     ]
    },
    {
     "data": {
      "text/plain": [
       "<matplotlib.collections.PathCollection at 0x7f65769c4d10>"
      ]
     },
     "execution_count": 14,
     "metadata": {},
     "output_type": "execute_result"
    },
    {
     "data": {
      "image/png": "[encoded data removed]",
      "text/plain": [
       "<Figure size 432x288 with 1 Axes>"
      ]
     },
     "metadata": {
      "needs_background": "light"
     },
     "output_type": "display_data"
    }
   ],
   "source": [
    "from sklearn.cluster import DBSCAN\n",
    "print(X)\n",
    "clusters = DBSCAN(eps = 0.5, min_samples = 50).fit(X)\n",
    "\n",
    "\n",
    "plt.scatter(X[:,0], X[:,1], c=clusters.labels_, s=50, cmap='viridis')"
   ]
  },
  {
   "cell_type": "code",
   "execution_count": null,
   "metadata": {
    "colab": {
     "base_uri": "https://localhost:8080/"
    },
    "id": "NmhqT5bR6wnX",
    "outputId": "cdd50dab-0df8-4796-c795-a6fc48ffa8c6"
   },
   "outputs": [
    {
     "data": {
      "text/plain": [
       "array([-1,  3,  1,  3,  2, -1,  0,  1, -1,  3,  0, -1,  1,  3,  2,  1,  1,\n",
       "        2,  0,  0,  2,  2,  1,  0,  0, -1,  2,  1, -1,  1,  3,  3,  1,  3,\n",
       "        3,  3,  3, -1,  0,  2,  1,  0,  1,  1,  0,  0,  3,  0,  3,  2,  0,\n",
       "        2,  3,  2,  2,  0, -1,  0,  3,  2,  3,  1,  3,  0,  0,  0,  3,  2,\n",
       "       -1,  0,  1,  0,  3,  0,  0,  3,  0,  1,  2,  3,  2,  1,  2,  2,  3,\n",
       "        1,  2,  1,  3,  3,  1,  2,  3,  0,  0,  1,  2,  2,  1, -1,  3,  2,\n",
       "        3,  2,  1,  2,  2,  1,  3,  1,  0,  0,  2,  3,  2, -1,  3,  2,  2,\n",
       "        1,  0,  2,  0,  2,  2,  2,  2,  0,  2,  0, -1,  0,  0,  2,  3,  0,\n",
       "        0,  3,  1,  3, -1,  0,  1,  0, -1,  0,  3,  1,  3,  3,  3,  1, -1,\n",
       "        1,  2,  0,  3,  0,  2,  1,  3,  1,  1,  2,  1,  0,  0,  1,  2,  1,\n",
       "        1,  3,  2,  1,  0,  3,  2,  2,  1,  0,  2,  1,  0,  0,  1,  1,  1,\n",
       "        1,  2,  3,  1,  0,  1,  1,  0,  0, -1,  1,  0,  3,  1,  0,  2,  0,\n",
       "        1, -1,  0,  3,  1,  3,  1,  0,  1,  1,  3,  0,  0,  2, -1,  1,  3,\n",
       "        2,  2,  0,  2,  0,  1,  3,  3, -1,  1,  3,  1,  2,  0,  1,  2,  0,\n",
       "        3,  0,  2,  1, -1,  3,  3,  3,  3,  0,  0, -1, -1,  0,  2,  1,  0,\n",
       "        0, -1,  2,  2,  3,  1,  1,  0,  2,  3,  0,  1,  3,  1,  2,  2,  0,\n",
       "        0, -1, -1,  2,  2, -1,  3,  3,  2,  2,  1,  2,  2, -1,  3,  0,  3,\n",
       "        1,  2,  2,  3,  3,  3,  2,  2,  1, -1,  0])"
      ]
     },
     "execution_count": 57,
     "metadata": {},
     "output_type": "execute_result"
    }
   ],
   "source": [
    "clusters.labels_"
   ]
  }
 ],
 "metadata": {
  "colab": {
   "name": "Calculo de clusters.ipynb",
   "provenance": [],
   "toc_visible": true
  },
  "kernelspec": {
   "display_name": "Python 3 (ipykernel)",
   "language": "python",
   "name": "python3"
  },
  "language_info": {
   "codemirror_mode": {
    "name": "ipython",
    "version": 3
   },
   "file_extension": ".py",
   "mimetype": "text/x-python",
   "name": "python",
   "nbconvert_exporter": "python",
   "pygments_lexer": "ipython3",
   "version": "3.10.2"
  }
 },
 "nbformat": 4,
 "nbformat_minor": 1
}
